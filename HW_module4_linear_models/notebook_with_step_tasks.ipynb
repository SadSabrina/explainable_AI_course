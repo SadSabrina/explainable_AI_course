{
 "cells": [
  {
   "cell_type": "code",
   "execution_count": 1,
   "metadata": {
    "executionInfo": {
     "elapsed": 4,
     "status": "ok",
     "timestamp": 1713346373411,
     "user": {
      "displayName": "Сабрина Садиех",
      "userId": "02783317471993275941"
     },
     "user_tz": -180
    },
    "id": "lNBWkTSeZdcg"
   },
   "outputs": [],
   "source": [
    "import numpy as np"
   ]
  },
  {
   "cell_type": "code",
   "execution_count": 2,
   "metadata": {
    "executionInfo": {
     "elapsed": 906,
     "status": "ok",
     "timestamp": 1713346386254,
     "user": {
      "displayName": "Сабрина Садиех",
      "userId": "02783317471993275941"
     },
     "user_tz": -180
    },
    "id": "Rahce99JZsuX"
   },
   "outputs": [],
   "source": [
    "k = 10\n",
    "\n",
    "\n",
    "w_0, w_1, w_2, w_3 = 0.05, -0.09, 0.4, 0.17\n",
    "\n",
    "x_0, x_1, x_2, x_3 = 1, 12, 0.5, 0.14\n",
    "\n",
    "before = np.exp(w_0*x_0 + w_1*x_1 + w_2*x_2 + w_3*x_3)"
   ]
  },
  {
   "cell_type": "code",
   "execution_count": 3,
   "metadata": {
    "executionInfo": {
     "elapsed": 4,
     "status": "ok",
     "timestamp": 1713346387290,
     "user": {
      "displayName": "Сабрина Садиех",
      "userId": "02783317471993275941"
     },
     "user_tz": -180
    },
    "id": "KXOw-I_pZtYf"
   },
   "outputs": [],
   "source": [
    "x_0, x_1, x_2, x_3 = 1, 12 + k , 0.5, 0.14\n",
    "\n",
    "after = np.exp(w_0*x_0 + w_1*x_1 + w_2*x_2 + w_3*x_3)\n",
    "\n",
    "coef = np.exp(k*w_1)"
   ]
  },
  {
   "cell_type": "code",
   "execution_count": 4,
   "metadata": {
    "colab": {
     "base_uri": "https://localhost:8080/"
    },
    "executionInfo": {
     "elapsed": 7,
     "status": "ok",
     "timestamp": 1713346388409,
     "user": {
      "displayName": "Сабрина Садиех",
      "userId": "02783317471993275941"
     },
     "user_tz": -180
    },
    "id": "aS4yvbkoZwtw",
    "outputId": "32510523-8f3c-4e92-ca5a-a0733a51e0b3"
   },
   "outputs": [
    {
     "data": {
      "text/plain": [
       "(0.4465517428220696, 0.18155439013574037, 0.18155439013574037)"
      ]
     },
     "execution_count": 4,
     "metadata": {},
     "output_type": "execute_result"
    }
   ],
   "source": [
    "before, after, before*coef"
   ]
  }
 ],
 "metadata": {
  "colab": {
   "authorship_tag": "ABX9TyNlYDCIxPcxQlmv/cI4C4l6",
   "provenance": []
  },
  "kernelspec": {
   "display_name": "Python 3",
   "name": "python3"
  },
  "language_info": {
   "name": "python"
  }
 },
 "nbformat": 4,
 "nbformat_minor": 0
}
