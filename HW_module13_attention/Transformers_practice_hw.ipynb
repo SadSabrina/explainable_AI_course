{
  "cells": [
    {
      "cell_type": "markdown",
      "metadata": {
        "id": "7HbyVAZnHDJ-"
      },
      "source": [
        "# **Transformers and XAI: practice**\n",
        "**Добро пожаловать на завершающую практику курса, друзья!**\n",
        "\n",
        "Прежде чем приступить, хочу сказать вам спасибо! Это мой первый общедоступный курс, и мне было важно сделать его интересным. Ваш фидбек, замечания и идеи делали и делают его лучше, поэтому feel free to делиться ими в чатах курса. Я благодарна вам за внимание и упорство в задачах. Вы — лучшие!\n",
        "\n",
        "**Перейдем к уроку! :)**\n",
        "\n",
        "Интерпретация моделей является интересной и захватывающей задачей и трансформеры с их механизмом внимания — не исключение. Однако, работая с ними, важность **качество предобучения**.\n",
        "\n",
        "Как правило, если при анализе важности в модели опираться на карты внимания, нужно использовать *хорошо предобученную* модель для вашей задачи. Это будет гарантировать вам, что внимание модели хорошо заточено на ваши данные и, как следствие, из него действительно *можно пытаться* извлечь рабочие гипотезы о данных.  \n",
        "\n",
        "Однако, не вниманием единым! Такие методы как SHAP, LIME, Integrated Gradients и другие тоже могут быть полезны.\n",
        "\n",
        "**В этом уроке мы:**\n",
        "\n",
        "- Научимся визуализировать механизм внимания (attention weights);\n",
        "- Применим методы интерпретации (такие как SHAP) для анализа решений, принимаемых моделью;\n",
        "- Познакомитесь с интрументарием, позволяющим визуализировать модели типа transformer в пару строк кода;\n",
        "- Обсудим важность интерпретации моделей в реальных приложениях и рассмотрим практические кейсы.\n",
        "\n",
        "**Будет красиво!** Приятного кодинга! :)\n",
        "\n",
        "![](https://ucarecdn.com/1a50e7f8-b09b-4b85-b928-b50efe5ecbba/)"
      ]
    },
    {
      "cell_type": "markdown",
      "metadata": {
        "id": "W4m7j4bTMQFK"
      },
      "source": [
        "Начнем с установки всех нужных библиотек. Не пугайтесь, на это может потребоваться 2-5 минут."
      ]
    },
    {
      "cell_type": "code",
      "execution_count": null,
      "metadata": {
        "id": "NaL7qY8JGSaW"
      },
      "outputs": [],
      "source": [
        "!pip install transformers shap transformers-interpret ferret-xai -q # Как всегда подтянем все нужные библиотеки"
      ]
    },
    {
      "cell_type": "markdown",
      "metadata": {
        "id": "J-AixpssMba9"
      },
      "source": [
        "И импортируем необходимые сущности."
      ]
    },
    {
      "cell_type": "code",
      "execution_count": null,
      "metadata": {
        "id": "fzOw5oKPGLOd"
      },
      "outputs": [],
      "source": [
        "# MODEL\n",
        "from transformers import AutoModelForSequenceClassification, AutoTokenizer, pipeline\n",
        "import torch\n",
        "\n",
        "# XAI Libs\n",
        "from transformers_interpret import SequenceClassificationExplainer\n",
        "from ferret import Benchmark\n",
        "import shap\n",
        "\n",
        "# VIZ\n",
        "import numpy as np\n",
        "import matplotlib.pyplot as plt"
      ]
    },
    {
      "cell_type": "markdown",
      "metadata": {
        "id": "hwo2V9QTMgAz"
      },
      "source": [
        "\n",
        "Будем работать над классической и очень красивой задачей — задачей классификации тональности текста. Чтобы не тратить время, возьмём предобученную модель `distilbert`.\n",
        "\n",
        "**DistilBERT** — это более маленькая и прозводительная модель, чем базовый BERT (Bidirectional Encoder Representations from Transformers). Она имеет на 40% меньше параметров, чем google-bert/bert-base-uncased и работает на 60% быстрее, сохраняя при этом более 95% производительности оригинальной модели."
      ]
    },
    {
      "cell_type": "code",
      "execution_count": null,
      "metadata": {
        "colab": {
          "base_uri": "https://localhost:8080/"
        },
        "id": "7_wCBkFDI5v2",
        "outputId": "5c0ca2ff-6a9c-4d56-db90-e6da360cd29c"
      },
      "outputs": [
        {
          "name": "stderr",
          "output_type": "stream",
          "text": [
            "\n",
            "The secret `HF_TOKEN` does not exist in your Colab secrets.\n",
            "To authenticate with the Hugging Face Hub, create a token in your settings tab (https://huggingface.co/settings/tokens), set it as secret in your Google Colab and restart your session.\n",
            "You will be able to reuse this secret in all of your notebooks.\n",
            "Please note that authentication is recommended but still optional to access public models or datasets.\n",
            "`clean_up_tokenization_spaces` was not set. It will be set to `True` by default. This behavior will be depracted in transformers v4.45, and will be then set to `False` by default. For more details check this issue: https://github.com/huggingface/transformers/issues/31884\n"
          ]
        }
      ],
      "source": [
        "model_name = \"distilbert-base-uncased-finetuned-sst-2-english\"\n",
        "model = AutoModelForSequenceClassification.from_pretrained(model_name)\n",
        "tokenizer = AutoTokenizer.from_pretrained(model_name)"
      ]
    },
    {
      "cell_type": "markdown",
      "metadata": {
        "id": "5nLIwC9-NeMA"
      },
      "source": [
        "Определим текст для работы. Вы можете задать также свой, но для выполнения заданий на степик, используйте оригинальный.\n"
      ]
    },
    {
      "cell_type": "code",
      "execution_count": null,
      "metadata": {
        "id": "g8uWDY2-Jmd0"
      },
      "outputs": [],
      "source": [
        "data = [\"You look terrible! Maybe you should rest?\"]"
      ]
    },
    {
      "cell_type": "code",
      "execution_count": null,
      "metadata": {
        "id": "_M538Zx07KNv"
      },
      "outputs": [],
      "source": [
        "txt_tokens = tokenizer(data[0], return_tensors=\"pt\", add_special_tokens=True) # Токенизируем слова\n",
        "labels = tokenizer.tokenize(data[0], add_special_tokens=True) # Сохраним labels для построения будущей карты внимания"
      ]
    },
    {
      "cell_type": "markdown",
      "metadata": {
        "id": "bB3qFxKmN8yf"
      },
      "source": [
        "**Какой токен id соответствует первому слову?**\n",
        "Ваш ответ здесь"
      ]
    },
    {
      "cell_type": "markdown",
      "metadata": {
        "id": "7wjMe0V5OhTJ"
      },
      "source": [
        "Внимание будем строить на основе взятия медианы по выходам трансформера. По умолчанию количество карт внимания в модели есть **num_layers*num_heads**.\n",
        "\n",
        "**Проверьте, сколько карт внимания у модели distillbert?**"
      ]
    },
    {
      "cell_type": "code",
      "execution_count": null,
      "metadata": {
        "id": "AsvwsEagOsWE"
      },
      "outputs": [],
      "source": [
        "# Ваш ответ здесь"
      ]
    },
    {
      "cell_type": "markdown",
      "metadata": {
        "id": "DKaL8bQJPEPr"
      },
      "source": [
        "Поскольку инференс трансформера трудоёмкая задача, для получения карт внимания нужно указывать специальный гиперпараметр — `output_attentions=True`. Для визуализации используем медианное значение по всем головам.\n",
        "\n",
        "**Note:** Никто не ограничивает вас от взятия среднего, минимума, максимума или другой статистики. Какая будет наиболее информативной — сложно сказать, однако по умолчанию в работах наиболее часто применяется медиана."
      ]
    },
    {
      "cell_type": "code",
      "execution_count": null,
      "metadata": {
        "id": "wjBwj2wjTO49"
      },
      "outputs": [],
      "source": [
        "predictions = model(**txt_tokens, output_attentions=True)"
      ]
    },
    {
      "cell_type": "code",
      "execution_count": null,
      "metadata": {
        "id": "ZTmFWqXnP9SG"
      },
      "outputs": [],
      "source": [
        "all_attentions = np.array([i.detach().numpy() for i in predictions.attentions[:]]).squeeze(1)\n",
        "\n",
        "med_layers_att = np.median(all_attentions, axis=0)\n",
        "med_heads_att = np.median(med_layers_att, axis=0)\n"
      ]
    },
    {
      "cell_type": "code",
      "execution_count": null,
      "metadata": {
        "id": "RY9UnnfUOb5g"
      },
      "outputs": [],
      "source": [
        "# Визуализируем внимание\n",
        "\n",
        "fig, ax = plt.subplots(figsize=(6, 12))\n",
        "ax.imshow(np.median(all_attentions[3], axis=0))\n",
        "\n",
        "\n",
        "ax.set_xticks(np.arange(len(labels)), labels=labels)\n",
        "ax.set_yticks(np.arange(len(labels)), labels=labels);\n"
      ]
    },
    {
      "cell_type": "markdown",
      "metadata": {
        "id": "5jsJaBCDPqXh"
      },
      "source": [
        "Чтобы сгладить оценку, можно использовать ещё одно усреднение, но уже на данном этапе видно, что медианная карта не совсем информативна. Так происходит, потому что каждая голова может брать на себя разные паттерны входной последовательности. Кроме того, модель училась работать с тональностью отзывов, а не c тональностью в целом.\n",
        "\n",
        "Но минусы не значат, что мы не можем продолжить исследование. К модели типа трансформер могут быть применены также другие методы.\n",
        "\n",
        "\n",
        "Начнем с shap."
      ]
    },
    {
      "cell_type": "markdown",
      "metadata": {
        "id": "vdDcFOlY08kh"
      },
      "source": [
        "### **shap X transformers**"
      ]
    },
    {
      "cell_type": "code",
      "execution_count": null,
      "metadata": {
        "colab": {
          "base_uri": "https://localhost:8080/",
          "height": 65,
          "referenced_widgets": [
            "a31612466d1445748cfd12cb2851e18a",
            "529303109333466683d00e8e8a1d992a",
            "5a5c256d7e7142c9956858e555407956",
            "728078c39d734901a92ed6874517f246",
            "fe55956fc7c64d36a2788b7edeba2a63",
            "f346bbbdc90940b8b1f27ef3d788c6f1",
            "eb65b6037c634c8388af0a396e8e66cf",
            "aed0d12deae84173971eb3dfc384d344",
            "d67f76dde4e942f0886395ef0d710911",
            "901b5adfbedb48829dee1a6649dbd4cd",
            "efd8d73c2f57480abfcd19de40596225"
          ]
        },
        "id": "978RuEzH9rCT",
        "outputId": "b570d382-9d04-46f5-b872-7efb9de7b58b"
      },
      "outputs": [
        {
          "name": "stdout",
          "output_type": "stream",
          "text": [
            "Predictions\n",
            "[[{'label': 'NEGATIVE', 'score': 0.9995892643928528}, {'label': 'POSITIVE', 'score': 0.0004107290878891945}]]\n"
          ]
        },
        {
          "data": {
            "application/vnd.jupyter.widget-view+json": {
              "model_id": "a31612466d1445748cfd12cb2851e18a",
              "version_major": 2,
              "version_minor": 0
            },
            "text/plain": [
              "  0%|          | 0/110 [00:00<?, ?it/s]"
            ]
          },
          "metadata": {},
          "output_type": "display_data"
        },
        {
          "name": "stderr",
          "output_type": "stream",
          "text": [
            "PartitionExplainer explainer: 2it [00:15, 15.39s/it]               \n"
          ]
        }
      ],
      "source": [
        "classifier = pipeline('text-classification', top_k=None, model=model, tokenizer=tokenizer)\n",
        "explainer = shap.Explainer(classifier)\n",
        "\n",
        "print('Predictions')\n",
        "print(classifier(data))\n",
        "\n",
        "# Высчитаем значения shap\n",
        "shap_values = explainer(data)"
      ]
    },
    {
      "cell_type": "code",
      "execution_count": null,
      "metadata": {
        "id": "0MGggo3uEAFE"
      },
      "outputs": [],
      "source": [
        "shap.plots.text(shap_values)"
      ]
    },
    {
      "cell_type": "markdown",
      "metadata": {
        "id": "ZWyrjxNmWhYg"
      },
      "source": [
        "**Проанализируйте график shap, как мы делали это раньше. Чему равен прогноз модели?**\n",
        "\n",
        "**Чему равно base value класса NEGATIVE?**"
      ]
    },
    {
      "cell_type": "markdown",
      "metadata": {
        "id": "E-7E8oRbz7Ss"
      },
      "source": [
        "Рассмотрим еще один тип графика — barplot. Можно визуализировать влияние токенов на \"POSITIVE\" и \"NEGATIVE\" классы отдельно."
      ]
    },
    {
      "cell_type": "code",
      "execution_count": null,
      "metadata": {
        "id": "uJn4m9gcyO00"
      },
      "outputs": [],
      "source": [
        "# Влияние токенов на Negative класс\n",
        "shap.plots.bar(shap_values[0, :, \"NEGATIVE\"], max_display=10)"
      ]
    },
    {
      "cell_type": "code",
      "execution_count": null,
      "metadata": {
        "id": "Nwl6Oy5e0bpa"
      },
      "outputs": [],
      "source": [
        "# Влияние токенов на Positive класс\n",
        "shap.plots.bar(shap_values[0, :, \"POSITIVE\"], max_display=10)"
      ]
    },
    {
      "cell_type": "markdown",
      "metadata": {
        "id": "DWgn8ZwM1BOh"
      },
      "source": [
        "### **transformers-interpret X transformers**\n",
        "\n",
        "Ещё одна механическая реализация способа заглянуть внутрь модели — библиотека`transformers-interpret`. Как вы можете заметить из названия — она разработа специально под модели типа трансформер.\n",
        "\n",
        "Из плюсов:\n",
        "- Transformers Interpret позволяет объяснить любую модель transformer всего в две строки\n",
        "- Доступны объяснения как для текстовых моделей, так и для CV моделей компьютерного зрения\n",
        "- Визуализации доступны ​​в виде легко сохраняемых файлов png и html\n",
        "\n",
        "Из минусов:\n",
        "- Обертка даёт меньше контроля над получением объяснения\n",
        "\n",
        "В целом, данная библиотека отличный способ получить объяснение быстро. Она позволяет экономить время и, кроме того, облегчает создание отчета по объяснением за счет удобного сохранения файлов.\n",
        "\n",
        "Для примеров с MultiLabel, Zero Shot Classification, Question Answering, Token Classification (NER) и Image Classification переходите [сюда](https://github.com/cdpierse/transformers-interpret/tree/master)."
      ]
    },
    {
      "cell_type": "code",
      "execution_count": null,
      "metadata": {
        "id": "zSKdmhZAXDBo"
      },
      "outputs": [],
      "source": [
        "cls_explainer = SequenceClassificationExplainer(model, tokenizer) # согласно философии библиотеки, объявляем классификатор\n",
        "word_attributions = cls_explainer(data[0]) # получаем атрибуции в пару строк"
      ]
    },
    {
      "cell_type": "code",
      "execution_count": null,
      "metadata": {
        "id": "bBiU8eNmGX4h"
      },
      "outputs": [],
      "source": [
        "cls_explainer.visualize(\"distilbert_viz.html\", true_class='NEGATIVE') # осуществляем визуализацию атрибуций"
      ]
    },
    {
      "cell_type": "code",
      "execution_count": null,
      "metadata": {
        "id": "DqZEaiJ5XlJ-"
      },
      "outputs": [],
      "source": [
        "fig, ax = plt.subplots()\n",
        "\n",
        "y_pos = np.arange(len(word_attributions))\n",
        "word_attributions_numbers = [i[1] for i in word_attributions]\n",
        "word_attributions_labels = [i[0] for i in word_attributions]\n",
        "\n",
        "ax.barh(y_pos, word_attributions_numbers)\n",
        "ax.set_yticks(y_pos, labels=word_attributions_labels)\n",
        "ax.set_title('Word attributions with transformers-interpret')\n",
        "plt.show()"
      ]
    },
    {
      "cell_type": "markdown",
      "metadata": {
        "id": "AuysxMhu4Cyc"
      },
      "source": [
        "### **FERRET x transformers**\n",
        "\n",
        "Как вы можете заметить, атрибуции, получаемые разными методами в рамках одной модели — различны. Мы видели это на протяжении курса и наблюдаем сейчас. Сказать, что лучше — нельзя. Но, быть может, всё только впереди =)\n",
        "\n",
        "\n",
        "Из плюсов фреймворка:\n",
        "- быстрый сравнительный анализ атрибуций разных методов объяснения\n",
        "- поддержка аудиоданных и объяснений для них\n",
        "\n",
        "Из минусов:\n",
        "- Аналогично transformers-interpet, обертка даёт меньше контроля над получением объяснения"
      ]
    },
    {
      "cell_type": "code",
      "execution_count": null,
      "metadata": {
        "colab": {
          "base_uri": "https://localhost:8080/",
          "height": 16,
          "referenced_widgets": [
            "b6219ac3a1c44873a1e40b270fc16806",
            "8601cd82805d49aa9c20ec00fc3f33b9",
            "62dab0fb50ce4666aea6d61e90bbf2ea",
            "949bf3ade8d544fcaeabd3654656001f",
            "649395d61d544da0a748d7460f7b881e",
            "c144b58367b74f268ee16feb9828fc75",
            "c2cc07aad1ec407f85c259a835546a6d",
            "c83a8bdbe0734b3a82cca617dd7ce8ac",
            "b780a05dc9c24faaab2879b24e649ea6",
            "7ef5145f04b040349850be1f98368190",
            "7011c97627fc4a1d8c95b4b0806ad741",
            "4de07c394ff44d98952382c560fb500f",
            "5519a85d52674eef8b00dfae05e352b7",
            "c81eca90094d48a9ae2fc1f07e2e2c7c",
            "54fdb8ff094e4e139d4cfb1fe78949a8",
            "b3fc372e447d457dbd9dbd69e080f02b",
            "53894f1e56b34a8bb18fca8d24a07c64",
            "826446796d114229af641a114eb7b2f7",
            "bc47e2f759ad45dba507cd539baf22ec",
            "2dffdcf051264081b3c212b116cc2242",
            "db0cb4025c9949f7b9c4c6ce035dca34",
            "6dcc0b77c0ce4cf481b2578b58e1beb5"
          ]
        },
        "id": "5m2yG4wIwJW8",
        "outputId": "771580e0-3415-41ba-96e5-b2c54bf064d5"
      },
      "outputs": [
        {
          "data": {
            "application/vnd.jupyter.widget-view+json": {
              "model_id": "b6219ac3a1c44873a1e40b270fc16806",
              "version_major": 2,
              "version_minor": 0
            },
            "text/plain": [
              "Explainer:   0%|          | 0/6 [00:00<?, ?it/s]"
            ]
          },
          "metadata": {},
          "output_type": "display_data"
        },
        {
          "data": {
            "application/vnd.jupyter.widget-view+json": {
              "model_id": "4de07c394ff44d98952382c560fb500f",
              "version_major": 2,
              "version_minor": 0
            },
            "text/plain": [
              "Explanation eval:   0%|          | 0/6 [00:00<?, ?it/s]"
            ]
          },
          "metadata": {},
          "output_type": "display_data"
        }
      ],
      "source": [
        "bench = Benchmark(model, tokenizer)\n",
        "\n",
        "explanations = bench.explain('You look terrible! Maybe you should rest?', target=0)\n",
        "evaluations = bench.evaluate_explanations(explanations, target=0)"
      ]
    },
    {
      "cell_type": "code",
      "execution_count": null,
      "metadata": {
        "id": "_nxvKoc45ycL"
      },
      "outputs": [],
      "source": [
        "bench.show_table(explanations)"
      ]
    },
    {
      "cell_type": "markdown",
      "metadata": {
        "id": "XG3VW7LxAFG1"
      },
      "source": [
        "**Какой токен имеет в ferret table наибольшую оценку во влиянии на прогноз?**"
      ]
    },
    {
      "cell_type": "markdown",
      "metadata": {
        "id": "V1NJX-tAAGnl"
      },
      "source": [
        " На платформе вас ждут еще несколько библиотек для работы с трансформерами. 🏎\n",
        "\n",
        " Спасибо за работу, друзья! Жду вас в новых курсах! :)"
      ]
    }
  ],
  "metadata": {
    "colab": {
      "provenance": []
    },
    "kernelspec": {
      "display_name": "Python 3",
      "name": "python3"
    },
    "language_info": {
      "name": "python"
    },
    "widgets": {
      "application/vnd.jupyter.widget-state+json": {
        "2dffdcf051264081b3c212b116cc2242": {
          "model_module": "@jupyter-widgets/controls",
          "model_module_version": "1.5.0",
          "model_name": "ProgressStyleModel",
          "state": {
            "_model_module": "@jupyter-widgets/controls",
            "_model_module_version": "1.5.0",
            "_model_name": "ProgressStyleModel",
            "_view_count": null,
            "_view_module": "@jupyter-widgets/base",
            "_view_module_version": "1.2.0",
            "_view_name": "StyleView",
            "bar_color": null,
            "description_width": ""
          }
        },
        "4de07c394ff44d98952382c560fb500f": {
          "model_module": "@jupyter-widgets/controls",
          "model_module_version": "1.5.0",
          "model_name": "HBoxModel",
          "state": {
            "_dom_classes": [],
            "_model_module": "@jupyter-widgets/controls",
            "_model_module_version": "1.5.0",
            "_model_name": "HBoxModel",
            "_view_count": null,
            "_view_module": "@jupyter-widgets/controls",
            "_view_module_version": "1.5.0",
            "_view_name": "HBoxView",
            "box_style": "",
            "children": [
              "IPY_MODEL_5519a85d52674eef8b00dfae05e352b7",
              "IPY_MODEL_c81eca90094d48a9ae2fc1f07e2e2c7c",
              "IPY_MODEL_54fdb8ff094e4e139d4cfb1fe78949a8"
            ],
            "layout": "IPY_MODEL_b3fc372e447d457dbd9dbd69e080f02b"
          }
        },
        "529303109333466683d00e8e8a1d992a": {
          "model_module": "@jupyter-widgets/controls",
          "model_module_version": "1.5.0",
          "model_name": "HTMLModel",
          "state": {
            "_dom_classes": [],
            "_model_module": "@jupyter-widgets/controls",
            "_model_module_version": "1.5.0",
            "_model_name": "HTMLModel",
            "_view_count": null,
            "_view_module": "@jupyter-widgets/controls",
            "_view_module_version": "1.5.0",
            "_view_name": "HTMLView",
            "description": "",
            "description_tooltip": null,
            "layout": "IPY_MODEL_f346bbbdc90940b8b1f27ef3d788c6f1",
            "placeholder": "​",
            "style": "IPY_MODEL_eb65b6037c634c8388af0a396e8e66cf",
            "value": ""
          }
        },
        "53894f1e56b34a8bb18fca8d24a07c64": {
          "model_module": "@jupyter-widgets/base",
          "model_module_version": "1.2.0",
          "model_name": "LayoutModel",
          "state": {
            "_model_module": "@jupyter-widgets/base",
            "_model_module_version": "1.2.0",
            "_model_name": "LayoutModel",
            "_view_count": null,
            "_view_module": "@jupyter-widgets/base",
            "_view_module_version": "1.2.0",
            "_view_name": "LayoutView",
            "align_content": null,
            "align_items": null,
            "align_self": null,
            "border": null,
            "bottom": null,
            "display": null,
            "flex": null,
            "flex_flow": null,
            "grid_area": null,
            "grid_auto_columns": null,
            "grid_auto_flow": null,
            "grid_auto_rows": null,
            "grid_column": null,
            "grid_gap": null,
            "grid_row": null,
            "grid_template_areas": null,
            "grid_template_columns": null,
            "grid_template_rows": null,
            "height": null,
            "justify_content": null,
            "justify_items": null,
            "left": null,
            "margin": null,
            "max_height": null,
            "max_width": null,
            "min_height": null,
            "min_width": null,
            "object_fit": null,
            "object_position": null,
            "order": null,
            "overflow": null,
            "overflow_x": null,
            "overflow_y": null,
            "padding": null,
            "right": null,
            "top": null,
            "visibility": null,
            "width": null
          }
        },
        "54fdb8ff094e4e139d4cfb1fe78949a8": {
          "model_module": "@jupyter-widgets/controls",
          "model_module_version": "1.5.0",
          "model_name": "HTMLModel",
          "state": {
            "_dom_classes": [],
            "_model_module": "@jupyter-widgets/controls",
            "_model_module_version": "1.5.0",
            "_model_name": "HTMLModel",
            "_view_count": null,
            "_view_module": "@jupyter-widgets/controls",
            "_view_module_version": "1.5.0",
            "_view_name": "HTMLView",
            "description": "",
            "description_tooltip": null,
            "layout": "IPY_MODEL_db0cb4025c9949f7b9c4c6ce035dca34",
            "placeholder": "​",
            "style": "IPY_MODEL_6dcc0b77c0ce4cf481b2578b58e1beb5",
            "value": " 6/6 [00:05&lt;00:00,  1.05it/s]"
          }
        },
        "5519a85d52674eef8b00dfae05e352b7": {
          "model_module": "@jupyter-widgets/controls",
          "model_module_version": "1.5.0",
          "model_name": "HTMLModel",
          "state": {
            "_dom_classes": [],
            "_model_module": "@jupyter-widgets/controls",
            "_model_module_version": "1.5.0",
            "_model_name": "HTMLModel",
            "_view_count": null,
            "_view_module": "@jupyter-widgets/controls",
            "_view_module_version": "1.5.0",
            "_view_name": "HTMLView",
            "description": "",
            "description_tooltip": null,
            "layout": "IPY_MODEL_53894f1e56b34a8bb18fca8d24a07c64",
            "placeholder": "​",
            "style": "IPY_MODEL_826446796d114229af641a114eb7b2f7",
            "value": "Explanation eval: 100%"
          }
        },
        "5a5c256d7e7142c9956858e555407956": {
          "model_module": "@jupyter-widgets/controls",
          "model_module_version": "1.5.0",
          "model_name": "FloatProgressModel",
          "state": {
            "_dom_classes": [],
            "_model_module": "@jupyter-widgets/controls",
            "_model_module_version": "1.5.0",
            "_model_name": "FloatProgressModel",
            "_view_count": null,
            "_view_module": "@jupyter-widgets/controls",
            "_view_module_version": "1.5.0",
            "_view_name": "ProgressView",
            "bar_style": "",
            "description": "",
            "description_tooltip": null,
            "layout": "IPY_MODEL_aed0d12deae84173971eb3dfc384d344",
            "max": 110,
            "min": 0,
            "orientation": "horizontal",
            "style": "IPY_MODEL_d67f76dde4e942f0886395ef0d710911",
            "value": 110
          }
        },
        "62dab0fb50ce4666aea6d61e90bbf2ea": {
          "model_module": "@jupyter-widgets/controls",
          "model_module_version": "1.5.0",
          "model_name": "FloatProgressModel",
          "state": {
            "_dom_classes": [],
            "_model_module": "@jupyter-widgets/controls",
            "_model_module_version": "1.5.0",
            "_model_name": "FloatProgressModel",
            "_view_count": null,
            "_view_module": "@jupyter-widgets/controls",
            "_view_module_version": "1.5.0",
            "_view_name": "ProgressView",
            "bar_style": "",
            "description": "",
            "description_tooltip": null,
            "layout": "IPY_MODEL_c83a8bdbe0734b3a82cca617dd7ce8ac",
            "max": 6,
            "min": 0,
            "orientation": "horizontal",
            "style": "IPY_MODEL_b780a05dc9c24faaab2879b24e649ea6",
            "value": 6
          }
        },
        "649395d61d544da0a748d7460f7b881e": {
          "model_module": "@jupyter-widgets/base",
          "model_module_version": "1.2.0",
          "model_name": "LayoutModel",
          "state": {
            "_model_module": "@jupyter-widgets/base",
            "_model_module_version": "1.2.0",
            "_model_name": "LayoutModel",
            "_view_count": null,
            "_view_module": "@jupyter-widgets/base",
            "_view_module_version": "1.2.0",
            "_view_name": "LayoutView",
            "align_content": null,
            "align_items": null,
            "align_self": null,
            "border": null,
            "bottom": null,
            "display": null,
            "flex": null,
            "flex_flow": null,
            "grid_area": null,
            "grid_auto_columns": null,
            "grid_auto_flow": null,
            "grid_auto_rows": null,
            "grid_column": null,
            "grid_gap": null,
            "grid_row": null,
            "grid_template_areas": null,
            "grid_template_columns": null,
            "grid_template_rows": null,
            "height": null,
            "justify_content": null,
            "justify_items": null,
            "left": null,
            "margin": null,
            "max_height": null,
            "max_width": null,
            "min_height": null,
            "min_width": null,
            "object_fit": null,
            "object_position": null,
            "order": null,
            "overflow": null,
            "overflow_x": null,
            "overflow_y": null,
            "padding": null,
            "right": null,
            "top": null,
            "visibility": "hidden",
            "width": null
          }
        },
        "6dcc0b77c0ce4cf481b2578b58e1beb5": {
          "model_module": "@jupyter-widgets/controls",
          "model_module_version": "1.5.0",
          "model_name": "DescriptionStyleModel",
          "state": {
            "_model_module": "@jupyter-widgets/controls",
            "_model_module_version": "1.5.0",
            "_model_name": "DescriptionStyleModel",
            "_view_count": null,
            "_view_module": "@jupyter-widgets/base",
            "_view_module_version": "1.2.0",
            "_view_name": "StyleView",
            "description_width": ""
          }
        },
        "7011c97627fc4a1d8c95b4b0806ad741": {
          "model_module": "@jupyter-widgets/controls",
          "model_module_version": "1.5.0",
          "model_name": "DescriptionStyleModel",
          "state": {
            "_model_module": "@jupyter-widgets/controls",
            "_model_module_version": "1.5.0",
            "_model_name": "DescriptionStyleModel",
            "_view_count": null,
            "_view_module": "@jupyter-widgets/base",
            "_view_module_version": "1.2.0",
            "_view_name": "StyleView",
            "description_width": ""
          }
        },
        "728078c39d734901a92ed6874517f246": {
          "model_module": "@jupyter-widgets/controls",
          "model_module_version": "1.5.0",
          "model_name": "HTMLModel",
          "state": {
            "_dom_classes": [],
            "_model_module": "@jupyter-widgets/controls",
            "_model_module_version": "1.5.0",
            "_model_name": "HTMLModel",
            "_view_count": null,
            "_view_module": "@jupyter-widgets/controls",
            "_view_module_version": "1.5.0",
            "_view_name": "HTMLView",
            "description": "",
            "description_tooltip": null,
            "layout": "IPY_MODEL_901b5adfbedb48829dee1a6649dbd4cd",
            "placeholder": "​",
            "style": "IPY_MODEL_efd8d73c2f57480abfcd19de40596225",
            "value": " 144/? [00:05&lt;00:00, 19.74it/s]"
          }
        },
        "7ef5145f04b040349850be1f98368190": {
          "model_module": "@jupyter-widgets/base",
          "model_module_version": "1.2.0",
          "model_name": "LayoutModel",
          "state": {
            "_model_module": "@jupyter-widgets/base",
            "_model_module_version": "1.2.0",
            "_model_name": "LayoutModel",
            "_view_count": null,
            "_view_module": "@jupyter-widgets/base",
            "_view_module_version": "1.2.0",
            "_view_name": "LayoutView",
            "align_content": null,
            "align_items": null,
            "align_self": null,
            "border": null,
            "bottom": null,
            "display": null,
            "flex": null,
            "flex_flow": null,
            "grid_area": null,
            "grid_auto_columns": null,
            "grid_auto_flow": null,
            "grid_auto_rows": null,
            "grid_column": null,
            "grid_gap": null,
            "grid_row": null,
            "grid_template_areas": null,
            "grid_template_columns": null,
            "grid_template_rows": null,
            "height": null,
            "justify_content": null,
            "justify_items": null,
            "left": null,
            "margin": null,
            "max_height": null,
            "max_width": null,
            "min_height": null,
            "min_width": null,
            "object_fit": null,
            "object_position": null,
            "order": null,
            "overflow": null,
            "overflow_x": null,
            "overflow_y": null,
            "padding": null,
            "right": null,
            "top": null,
            "visibility": null,
            "width": null
          }
        },
        "826446796d114229af641a114eb7b2f7": {
          "model_module": "@jupyter-widgets/controls",
          "model_module_version": "1.5.0",
          "model_name": "DescriptionStyleModel",
          "state": {
            "_model_module": "@jupyter-widgets/controls",
            "_model_module_version": "1.5.0",
            "_model_name": "DescriptionStyleModel",
            "_view_count": null,
            "_view_module": "@jupyter-widgets/base",
            "_view_module_version": "1.2.0",
            "_view_name": "StyleView",
            "description_width": ""
          }
        },
        "8601cd82805d49aa9c20ec00fc3f33b9": {
          "model_module": "@jupyter-widgets/controls",
          "model_module_version": "1.5.0",
          "model_name": "HTMLModel",
          "state": {
            "_dom_classes": [],
            "_model_module": "@jupyter-widgets/controls",
            "_model_module_version": "1.5.0",
            "_model_name": "HTMLModel",
            "_view_count": null,
            "_view_module": "@jupyter-widgets/controls",
            "_view_module_version": "1.5.0",
            "_view_name": "HTMLView",
            "description": "",
            "description_tooltip": null,
            "layout": "IPY_MODEL_c144b58367b74f268ee16feb9828fc75",
            "placeholder": "​",
            "style": "IPY_MODEL_c2cc07aad1ec407f85c259a835546a6d",
            "value": "Explainer: 100%"
          }
        },
        "901b5adfbedb48829dee1a6649dbd4cd": {
          "model_module": "@jupyter-widgets/base",
          "model_module_version": "1.2.0",
          "model_name": "LayoutModel",
          "state": {
            "_model_module": "@jupyter-widgets/base",
            "_model_module_version": "1.2.0",
            "_model_name": "LayoutModel",
            "_view_count": null,
            "_view_module": "@jupyter-widgets/base",
            "_view_module_version": "1.2.0",
            "_view_name": "LayoutView",
            "align_content": null,
            "align_items": null,
            "align_self": null,
            "border": null,
            "bottom": null,
            "display": null,
            "flex": null,
            "flex_flow": null,
            "grid_area": null,
            "grid_auto_columns": null,
            "grid_auto_flow": null,
            "grid_auto_rows": null,
            "grid_column": null,
            "grid_gap": null,
            "grid_row": null,
            "grid_template_areas": null,
            "grid_template_columns": null,
            "grid_template_rows": null,
            "height": null,
            "justify_content": null,
            "justify_items": null,
            "left": null,
            "margin": null,
            "max_height": null,
            "max_width": null,
            "min_height": null,
            "min_width": null,
            "object_fit": null,
            "object_position": null,
            "order": null,
            "overflow": null,
            "overflow_x": null,
            "overflow_y": null,
            "padding": null,
            "right": null,
            "top": null,
            "visibility": null,
            "width": null
          }
        },
        "949bf3ade8d544fcaeabd3654656001f": {
          "model_module": "@jupyter-widgets/controls",
          "model_module_version": "1.5.0",
          "model_name": "HTMLModel",
          "state": {
            "_dom_classes": [],
            "_model_module": "@jupyter-widgets/controls",
            "_model_module_version": "1.5.0",
            "_model_name": "HTMLModel",
            "_view_count": null,
            "_view_module": "@jupyter-widgets/controls",
            "_view_module_version": "1.5.0",
            "_view_name": "HTMLView",
            "description": "",
            "description_tooltip": null,
            "layout": "IPY_MODEL_7ef5145f04b040349850be1f98368190",
            "placeholder": "​",
            "style": "IPY_MODEL_7011c97627fc4a1d8c95b4b0806ad741",
            "value": " 6/6 [00:12&lt;00:00,  1.98s/it]"
          }
        },
        "a31612466d1445748cfd12cb2851e18a": {
          "model_module": "@jupyter-widgets/controls",
          "model_module_version": "1.5.0",
          "model_name": "HBoxModel",
          "state": {
            "_dom_classes": [],
            "_model_module": "@jupyter-widgets/controls",
            "_model_module_version": "1.5.0",
            "_model_name": "HBoxModel",
            "_view_count": null,
            "_view_module": "@jupyter-widgets/controls",
            "_view_module_version": "1.5.0",
            "_view_name": "HBoxView",
            "box_style": "",
            "children": [
              "IPY_MODEL_529303109333466683d00e8e8a1d992a",
              "IPY_MODEL_5a5c256d7e7142c9956858e555407956",
              "IPY_MODEL_728078c39d734901a92ed6874517f246"
            ],
            "layout": "IPY_MODEL_fe55956fc7c64d36a2788b7edeba2a63"
          }
        },
        "aed0d12deae84173971eb3dfc384d344": {
          "model_module": "@jupyter-widgets/base",
          "model_module_version": "1.2.0",
          "model_name": "LayoutModel",
          "state": {
            "_model_module": "@jupyter-widgets/base",
            "_model_module_version": "1.2.0",
            "_model_name": "LayoutModel",
            "_view_count": null,
            "_view_module": "@jupyter-widgets/base",
            "_view_module_version": "1.2.0",
            "_view_name": "LayoutView",
            "align_content": null,
            "align_items": null,
            "align_self": null,
            "border": null,
            "bottom": null,
            "display": null,
            "flex": null,
            "flex_flow": null,
            "grid_area": null,
            "grid_auto_columns": null,
            "grid_auto_flow": null,
            "grid_auto_rows": null,
            "grid_column": null,
            "grid_gap": null,
            "grid_row": null,
            "grid_template_areas": null,
            "grid_template_columns": null,
            "grid_template_rows": null,
            "height": null,
            "justify_content": null,
            "justify_items": null,
            "left": null,
            "margin": null,
            "max_height": null,
            "max_width": null,
            "min_height": null,
            "min_width": null,
            "object_fit": null,
            "object_position": null,
            "order": null,
            "overflow": null,
            "overflow_x": null,
            "overflow_y": null,
            "padding": null,
            "right": null,
            "top": null,
            "visibility": null,
            "width": null
          }
        },
        "b3fc372e447d457dbd9dbd69e080f02b": {
          "model_module": "@jupyter-widgets/base",
          "model_module_version": "1.2.0",
          "model_name": "LayoutModel",
          "state": {
            "_model_module": "@jupyter-widgets/base",
            "_model_module_version": "1.2.0",
            "_model_name": "LayoutModel",
            "_view_count": null,
            "_view_module": "@jupyter-widgets/base",
            "_view_module_version": "1.2.0",
            "_view_name": "LayoutView",
            "align_content": null,
            "align_items": null,
            "align_self": null,
            "border": null,
            "bottom": null,
            "display": null,
            "flex": null,
            "flex_flow": null,
            "grid_area": null,
            "grid_auto_columns": null,
            "grid_auto_flow": null,
            "grid_auto_rows": null,
            "grid_column": null,
            "grid_gap": null,
            "grid_row": null,
            "grid_template_areas": null,
            "grid_template_columns": null,
            "grid_template_rows": null,
            "height": null,
            "justify_content": null,
            "justify_items": null,
            "left": null,
            "margin": null,
            "max_height": null,
            "max_width": null,
            "min_height": null,
            "min_width": null,
            "object_fit": null,
            "object_position": null,
            "order": null,
            "overflow": null,
            "overflow_x": null,
            "overflow_y": null,
            "padding": null,
            "right": null,
            "top": null,
            "visibility": "hidden",
            "width": null
          }
        },
        "b6219ac3a1c44873a1e40b270fc16806": {
          "model_module": "@jupyter-widgets/controls",
          "model_module_version": "1.5.0",
          "model_name": "HBoxModel",
          "state": {
            "_dom_classes": [],
            "_model_module": "@jupyter-widgets/controls",
            "_model_module_version": "1.5.0",
            "_model_name": "HBoxModel",
            "_view_count": null,
            "_view_module": "@jupyter-widgets/controls",
            "_view_module_version": "1.5.0",
            "_view_name": "HBoxView",
            "box_style": "",
            "children": [
              "IPY_MODEL_8601cd82805d49aa9c20ec00fc3f33b9",
              "IPY_MODEL_62dab0fb50ce4666aea6d61e90bbf2ea",
              "IPY_MODEL_949bf3ade8d544fcaeabd3654656001f"
            ],
            "layout": "IPY_MODEL_649395d61d544da0a748d7460f7b881e"
          }
        },
        "b780a05dc9c24faaab2879b24e649ea6": {
          "model_module": "@jupyter-widgets/controls",
          "model_module_version": "1.5.0",
          "model_name": "ProgressStyleModel",
          "state": {
            "_model_module": "@jupyter-widgets/controls",
            "_model_module_version": "1.5.0",
            "_model_name": "ProgressStyleModel",
            "_view_count": null,
            "_view_module": "@jupyter-widgets/base",
            "_view_module_version": "1.2.0",
            "_view_name": "StyleView",
            "bar_color": null,
            "description_width": ""
          }
        },
        "bc47e2f759ad45dba507cd539baf22ec": {
          "model_module": "@jupyter-widgets/base",
          "model_module_version": "1.2.0",
          "model_name": "LayoutModel",
          "state": {
            "_model_module": "@jupyter-widgets/base",
            "_model_module_version": "1.2.0",
            "_model_name": "LayoutModel",
            "_view_count": null,
            "_view_module": "@jupyter-widgets/base",
            "_view_module_version": "1.2.0",
            "_view_name": "LayoutView",
            "align_content": null,
            "align_items": null,
            "align_self": null,
            "border": null,
            "bottom": null,
            "display": null,
            "flex": null,
            "flex_flow": null,
            "grid_area": null,
            "grid_auto_columns": null,
            "grid_auto_flow": null,
            "grid_auto_rows": null,
            "grid_column": null,
            "grid_gap": null,
            "grid_row": null,
            "grid_template_areas": null,
            "grid_template_columns": null,
            "grid_template_rows": null,
            "height": null,
            "justify_content": null,
            "justify_items": null,
            "left": null,
            "margin": null,
            "max_height": null,
            "max_width": null,
            "min_height": null,
            "min_width": null,
            "object_fit": null,
            "object_position": null,
            "order": null,
            "overflow": null,
            "overflow_x": null,
            "overflow_y": null,
            "padding": null,
            "right": null,
            "top": null,
            "visibility": null,
            "width": null
          }
        },
        "c144b58367b74f268ee16feb9828fc75": {
          "model_module": "@jupyter-widgets/base",
          "model_module_version": "1.2.0",
          "model_name": "LayoutModel",
          "state": {
            "_model_module": "@jupyter-widgets/base",
            "_model_module_version": "1.2.0",
            "_model_name": "LayoutModel",
            "_view_count": null,
            "_view_module": "@jupyter-widgets/base",
            "_view_module_version": "1.2.0",
            "_view_name": "LayoutView",
            "align_content": null,
            "align_items": null,
            "align_self": null,
            "border": null,
            "bottom": null,
            "display": null,
            "flex": null,
            "flex_flow": null,
            "grid_area": null,
            "grid_auto_columns": null,
            "grid_auto_flow": null,
            "grid_auto_rows": null,
            "grid_column": null,
            "grid_gap": null,
            "grid_row": null,
            "grid_template_areas": null,
            "grid_template_columns": null,
            "grid_template_rows": null,
            "height": null,
            "justify_content": null,
            "justify_items": null,
            "left": null,
            "margin": null,
            "max_height": null,
            "max_width": null,
            "min_height": null,
            "min_width": null,
            "object_fit": null,
            "object_position": null,
            "order": null,
            "overflow": null,
            "overflow_x": null,
            "overflow_y": null,
            "padding": null,
            "right": null,
            "top": null,
            "visibility": null,
            "width": null
          }
        },
        "c2cc07aad1ec407f85c259a835546a6d": {
          "model_module": "@jupyter-widgets/controls",
          "model_module_version": "1.5.0",
          "model_name": "DescriptionStyleModel",
          "state": {
            "_model_module": "@jupyter-widgets/controls",
            "_model_module_version": "1.5.0",
            "_model_name": "DescriptionStyleModel",
            "_view_count": null,
            "_view_module": "@jupyter-widgets/base",
            "_view_module_version": "1.2.0",
            "_view_name": "StyleView",
            "description_width": ""
          }
        },
        "c81eca90094d48a9ae2fc1f07e2e2c7c": {
          "model_module": "@jupyter-widgets/controls",
          "model_module_version": "1.5.0",
          "model_name": "FloatProgressModel",
          "state": {
            "_dom_classes": [],
            "_model_module": "@jupyter-widgets/controls",
            "_model_module_version": "1.5.0",
            "_model_name": "FloatProgressModel",
            "_view_count": null,
            "_view_module": "@jupyter-widgets/controls",
            "_view_module_version": "1.5.0",
            "_view_name": "ProgressView",
            "bar_style": "",
            "description": "",
            "description_tooltip": null,
            "layout": "IPY_MODEL_bc47e2f759ad45dba507cd539baf22ec",
            "max": 6,
            "min": 0,
            "orientation": "horizontal",
            "style": "IPY_MODEL_2dffdcf051264081b3c212b116cc2242",
            "value": 6
          }
        },
        "c83a8bdbe0734b3a82cca617dd7ce8ac": {
          "model_module": "@jupyter-widgets/base",
          "model_module_version": "1.2.0",
          "model_name": "LayoutModel",
          "state": {
            "_model_module": "@jupyter-widgets/base",
            "_model_module_version": "1.2.0",
            "_model_name": "LayoutModel",
            "_view_count": null,
            "_view_module": "@jupyter-widgets/base",
            "_view_module_version": "1.2.0",
            "_view_name": "LayoutView",
            "align_content": null,
            "align_items": null,
            "align_self": null,
            "border": null,
            "bottom": null,
            "display": null,
            "flex": null,
            "flex_flow": null,
            "grid_area": null,
            "grid_auto_columns": null,
            "grid_auto_flow": null,
            "grid_auto_rows": null,
            "grid_column": null,
            "grid_gap": null,
            "grid_row": null,
            "grid_template_areas": null,
            "grid_template_columns": null,
            "grid_template_rows": null,
            "height": null,
            "justify_content": null,
            "justify_items": null,
            "left": null,
            "margin": null,
            "max_height": null,
            "max_width": null,
            "min_height": null,
            "min_width": null,
            "object_fit": null,
            "object_position": null,
            "order": null,
            "overflow": null,
            "overflow_x": null,
            "overflow_y": null,
            "padding": null,
            "right": null,
            "top": null,
            "visibility": null,
            "width": null
          }
        },
        "d67f76dde4e942f0886395ef0d710911": {
          "model_module": "@jupyter-widgets/controls",
          "model_module_version": "1.5.0",
          "model_name": "ProgressStyleModel",
          "state": {
            "_model_module": "@jupyter-widgets/controls",
            "_model_module_version": "1.5.0",
            "_model_name": "ProgressStyleModel",
            "_view_count": null,
            "_view_module": "@jupyter-widgets/base",
            "_view_module_version": "1.2.0",
            "_view_name": "StyleView",
            "bar_color": null,
            "description_width": ""
          }
        },
        "db0cb4025c9949f7b9c4c6ce035dca34": {
          "model_module": "@jupyter-widgets/base",
          "model_module_version": "1.2.0",
          "model_name": "LayoutModel",
          "state": {
            "_model_module": "@jupyter-widgets/base",
            "_model_module_version": "1.2.0",
            "_model_name": "LayoutModel",
            "_view_count": null,
            "_view_module": "@jupyter-widgets/base",
            "_view_module_version": "1.2.0",
            "_view_name": "LayoutView",
            "align_content": null,
            "align_items": null,
            "align_self": null,
            "border": null,
            "bottom": null,
            "display": null,
            "flex": null,
            "flex_flow": null,
            "grid_area": null,
            "grid_auto_columns": null,
            "grid_auto_flow": null,
            "grid_auto_rows": null,
            "grid_column": null,
            "grid_gap": null,
            "grid_row": null,
            "grid_template_areas": null,
            "grid_template_columns": null,
            "grid_template_rows": null,
            "height": null,
            "justify_content": null,
            "justify_items": null,
            "left": null,
            "margin": null,
            "max_height": null,
            "max_width": null,
            "min_height": null,
            "min_width": null,
            "object_fit": null,
            "object_position": null,
            "order": null,
            "overflow": null,
            "overflow_x": null,
            "overflow_y": null,
            "padding": null,
            "right": null,
            "top": null,
            "visibility": null,
            "width": null
          }
        },
        "eb65b6037c634c8388af0a396e8e66cf": {
          "model_module": "@jupyter-widgets/controls",
          "model_module_version": "1.5.0",
          "model_name": "DescriptionStyleModel",
          "state": {
            "_model_module": "@jupyter-widgets/controls",
            "_model_module_version": "1.5.0",
            "_model_name": "DescriptionStyleModel",
            "_view_count": null,
            "_view_module": "@jupyter-widgets/base",
            "_view_module_version": "1.2.0",
            "_view_name": "StyleView",
            "description_width": ""
          }
        },
        "efd8d73c2f57480abfcd19de40596225": {
          "model_module": "@jupyter-widgets/controls",
          "model_module_version": "1.5.0",
          "model_name": "DescriptionStyleModel",
          "state": {
            "_model_module": "@jupyter-widgets/controls",
            "_model_module_version": "1.5.0",
            "_model_name": "DescriptionStyleModel",
            "_view_count": null,
            "_view_module": "@jupyter-widgets/base",
            "_view_module_version": "1.2.0",
            "_view_name": "StyleView",
            "description_width": ""
          }
        },
        "f346bbbdc90940b8b1f27ef3d788c6f1": {
          "model_module": "@jupyter-widgets/base",
          "model_module_version": "1.2.0",
          "model_name": "LayoutModel",
          "state": {
            "_model_module": "@jupyter-widgets/base",
            "_model_module_version": "1.2.0",
            "_model_name": "LayoutModel",
            "_view_count": null,
            "_view_module": "@jupyter-widgets/base",
            "_view_module_version": "1.2.0",
            "_view_name": "LayoutView",
            "align_content": null,
            "align_items": null,
            "align_self": null,
            "border": null,
            "bottom": null,
            "display": null,
            "flex": null,
            "flex_flow": null,
            "grid_area": null,
            "grid_auto_columns": null,
            "grid_auto_flow": null,
            "grid_auto_rows": null,
            "grid_column": null,
            "grid_gap": null,
            "grid_row": null,
            "grid_template_areas": null,
            "grid_template_columns": null,
            "grid_template_rows": null,
            "height": null,
            "justify_content": null,
            "justify_items": null,
            "left": null,
            "margin": null,
            "max_height": null,
            "max_width": null,
            "min_height": null,
            "min_width": null,
            "object_fit": null,
            "object_position": null,
            "order": null,
            "overflow": null,
            "overflow_x": null,
            "overflow_y": null,
            "padding": null,
            "right": null,
            "top": null,
            "visibility": null,
            "width": null
          }
        },
        "fe55956fc7c64d36a2788b7edeba2a63": {
          "model_module": "@jupyter-widgets/base",
          "model_module_version": "1.2.0",
          "model_name": "LayoutModel",
          "state": {
            "_model_module": "@jupyter-widgets/base",
            "_model_module_version": "1.2.0",
            "_model_name": "LayoutModel",
            "_view_count": null,
            "_view_module": "@jupyter-widgets/base",
            "_view_module_version": "1.2.0",
            "_view_name": "LayoutView",
            "align_content": null,
            "align_items": null,
            "align_self": null,
            "border": null,
            "bottom": null,
            "display": null,
            "flex": null,
            "flex_flow": null,
            "grid_area": null,
            "grid_auto_columns": null,
            "grid_auto_flow": null,
            "grid_auto_rows": null,
            "grid_column": null,
            "grid_gap": null,
            "grid_row": null,
            "grid_template_areas": null,
            "grid_template_columns": null,
            "grid_template_rows": null,
            "height": null,
            "justify_content": null,
            "justify_items": null,
            "left": null,
            "margin": null,
            "max_height": null,
            "max_width": null,
            "min_height": null,
            "min_width": null,
            "object_fit": null,
            "object_position": null,
            "order": null,
            "overflow": null,
            "overflow_x": null,
            "overflow_y": null,
            "padding": null,
            "right": null,
            "top": null,
            "visibility": "hidden",
            "width": null
          }
        }
      }
    }
  },
  "nbformat": 4,
  "nbformat_minor": 0
}
